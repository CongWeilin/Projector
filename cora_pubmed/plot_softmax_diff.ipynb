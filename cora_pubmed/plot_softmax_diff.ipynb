{
 "cells": [
  {
   "cell_type": "code",
   "execution_count": 1,
   "metadata": {},
   "outputs": [],
   "source": [
    "import matplotlib.pyplot as plt\n",
    "plt.rcParams[\"font.family\"] = \"serif\" \n",
    "plt.rcParams[\"figure.figsize\"] = (5,3)\n",
    "\n",
    "SMALL_SIZE = 11\n",
    "MEDIUM_SIZE = 11\n",
    "BIGGER_SIZE = 12\n",
    "\n",
    "plt.rc('font', size=SMALL_SIZE)          # controls default text sizes\n",
    "plt.rc('axes', titlesize=SMALL_SIZE)     # fontsize of the axes title\n",
    "plt.rc('axes', labelsize=MEDIUM_SIZE)    # fontsize of the x and y labels\n",
    "plt.rc('xtick', labelsize=SMALL_SIZE)    # fontsize of the tick labels\n",
    "plt.rc('ytick', labelsize=SMALL_SIZE)    # fontsize of the tick labels\n",
    "plt.rc('legend', fontsize=SMALL_SIZE)    # legend fontsize\n",
    "plt.rc('figure', titlesize=BIGGER_SIZE)  # fontsize of the figure title"
   ]
  },
  {
   "cell_type": "code",
   "execution_count": 2,
   "metadata": {},
   "outputs": [],
   "source": [
    "import json\n",
    "import numpy as np"
   ]
  },
  {
   "cell_type": "code",
   "execution_count": 3,
   "metadata": {},
   "outputs": [],
   "source": [
    "all_seeds = [0, 10, 123, 231, 321]\n",
    "\n",
    "DATASET = 'Pubmed'\n",
    "# node_set = 'delete'\n",
    "# node_set = 'remain'\n",
    "node_set = 'test'\n",
    "\n",
    "node_set_id = {\n",
    "    'delete': 4, \n",
    "    'remain': 5,\n",
    "    'test': 6\n",
    "}\n",
    "\n",
    "seed_influence_results = []\n",
    "for SEED in all_seeds:\n",
    "    with open('results/%s_weight_results_influence_seed%d.json'%(DATASET, SEED), 'r') as f:\n",
    "        results = json.load(f)\n",
    "        seed_influence_results.append(results)\n",
    "        \n",
    "seed_fisher_results = []\n",
    "for SEED in all_seeds:\n",
    "    with open('results/%s_weight_results_fisher_seed%d.json'%(DATASET, SEED), 'r') as f:\n",
    "        results = json.load(f)\n",
    "        seed_fisher_results.append(results)\n",
    "        \n",
    "seed_project_results = []\n",
    "for SEED in all_seeds:\n",
    "    with open('results/%s_weight_results_projection_seed%d.json'%(DATASET, SEED), 'r') as f:\n",
    "        results = json.load(f)\n",
    "        seed_project_results.append(results)"
   ]
  },
  {
   "cell_type": "code",
   "execution_count": 4,
   "metadata": {},
   "outputs": [],
   "source": [
    "seed_influence_results  = np.array(seed_influence_results)\n",
    "seed_project_results = np.array(seed_project_results)\n",
    "seed_fisher_results = np.array(seed_fisher_results)\n",
    "\n",
    "seed_influence_results = seed_influence_results[:, :, node_set_id[node_set]] \n",
    "seed_project_results   = seed_project_results[:, :, node_set_id[node_set]] \n",
    "seed_fisher_results    = seed_fisher_results[:, :, node_set_id[node_set]]"
   ]
  },
  {
   "cell_type": "code",
   "execution_count": 5,
   "metadata": {},
   "outputs": [
    {
     "data": {
      "text/plain": [
       "(5, 181)"
      ]
     },
     "execution_count": 5,
     "metadata": {},
     "output_type": "execute_result"
    }
   ],
   "source": [
    "seed_influence_results.shape"
   ]
  },
  {
   "cell_type": "code",
   "execution_count": 6,
   "metadata": {},
   "outputs": [],
   "source": [
    "seed_influence_results_mean = np.mean(seed_influence_results, axis=0)\n",
    "seed_influence_results_stds = np.std(seed_influence_results, axis=0)\n",
    "\n",
    "seed_fisher_results_mean = np.mean(seed_fisher_results, axis=0)\n",
    "seed_fisher_results_stds = np.std(seed_fisher_results, axis=0)\n",
    "\n",
    "seed_project_results_mean = np.mean(seed_project_results, axis=0)\n",
    "seed_project_results_stds = np.std(seed_project_results, axis=0)"
   ]
  },
  {
   "cell_type": "code",
   "execution_count": 7,
   "metadata": {},
   "outputs": [],
   "source": [
    "num_delete_data = len(seed_influence_results_mean)"
   ]
  },
  {
   "cell_type": "code",
   "execution_count": 8,
   "metadata": {},
   "outputs": [
    {
     "data": {
      "image/png": "[encoded data removed]",
      "text/plain": [
       "<Figure size 360x216 with 1 Axes>"
      ]
     },
     "metadata": {
      "needs_background": "light"
     },
     "output_type": "display_data"
    }
   ],
   "source": [
    "fig, axs = plt.subplots()\n",
    "\n",
    "x_axis = (np.arange(num_delete_data) + 1) / num_delete_data\n",
    "######################################\n",
    "\n",
    "y_mean = seed_project_results_mean\n",
    "y_std  = seed_project_results_stds\n",
    "axs.plot(x_axis, y_mean, linewidth=3, linestyle='-', label='Projector')\n",
    "axs.fill_between(x_axis, y_mean-y_std, y_mean+y_std, alpha=0.15)\n",
    "\n",
    "######################################\n",
    "\n",
    "y_mean = seed_influence_results_mean\n",
    "y_std  = seed_influence_results_stds\n",
    "axs.plot(x_axis, y_mean, linewidth=3, linestyle='-', label='Influence+')\n",
    "axs.fill_between(x_axis, y_mean-y_std, y_mean+y_std, alpha=0.15)\n",
    "\n",
    "######################################\n",
    "\n",
    "y_mean = seed_fisher_results_mean\n",
    "y_std  = seed_fisher_results_stds\n",
    "axs.plot(x_axis, y_mean, linewidth=3, linestyle='-', label='Fisher+')\n",
    "axs.fill_between(x_axis, y_mean-y_std, y_mean+y_std, alpha=0.15)\n",
    "\n",
    "######################################\n",
    "plt.title('%s: $||\\sigma(\\mathbf{w}_p^T \\mathbf{h}_i)-\\sigma(\\mathbf{w}_u^T \\mathbf{h}_i)||_2, i\\in\\mathcal{V}_{%s}$'%(DATASET, node_set), fontsize=15)\n",
    "axs.set_ylabel('$\\ell_2$-norm difference', fontsize=15)\n",
    "axs.set_xlabel('Unlearn percentage (%)', fontsize=15)\n",
    "# axs.xaxis.get_major_locator().set_params(integer=True)\n",
    "axs.grid(True)\n",
    "fig.tight_layout()\n",
    "axs.legend(fontsize=13)\n",
    "plt.xlim(0.1, 1)\n",
    "\n",
    "plt.savefig('%s_%s_softmax_diff.pdf'%(DATASET, node_set), bbox_inches='tight')"
   ]
  },
  {
   "cell_type": "code",
   "execution_count": null,
   "metadata": {},
   "outputs": [],
   "source": []
  }
 ],
 "metadata": {
  "kernelspec": {
   "display_name": "Python 3",
   "language": "python",
   "name": "python3"
  },
  "language_info": {
   "codemirror_mode": {
    "name": "ipython",
    "version": 3
   },
   "file_extension": ".py",
   "mimetype": "text/x-python",
   "name": "python",
   "nbconvert_exporter": "python",
   "pygments_lexer": "ipython3",
   "version": "3.8.5"
  }
 },
 "nbformat": 4,
 "nbformat_minor": 4
}
